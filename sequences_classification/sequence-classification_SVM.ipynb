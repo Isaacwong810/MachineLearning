{
 "cells": [
  {
   "cell_type": "code",
   "execution_count": 1,
   "metadata": {},
   "outputs": [],
   "source": [
    "import os\n",
    "import pandas as pd\n",
    "import numpy as np\n",
    "path = \"./home/users/khwong352/FYP/ee5434/\"\n",
    "def read_data(partition , data_path=path):\n",
    "  data = []\n",
    "  for fn in os.listdir(os.path.join(data_path, partition)):\n",
    "    with open(os.path.join(data_path, partition, fn)) as f:\n",
    "      data.append(pd.read_csv(f, index_col=None))\n",
    "  return pd.concat(data)\n",
    "\n"
   ]
  },
  {
   "cell_type": "code",
   "execution_count": 2,
   "metadata": {},
   "outputs": [],
   "source": [
    "# reading all data_partitions\n",
    "# path = \"../input/pfam-seed-random-split/random_split/random_split\"\n",
    "df_test = pd.read_csv('/home/users/khwong352/FYP/ee5434/test.csv')\n",
    "df_val = pd.read_csv('/home/users/khwong352/FYP/ee5434/val.csv')\n",
    "df_train = pd.read_csv('/home/users/khwong352/FYP/ee5434/train.csv')\n",
    "df_sample = pd.read_csv('/home/users/khwong352/FYP/ee5434/sampleSubmission.csv')\n",
    "\n",
    "#df_train.head(5)\n",
    "#print(df_train['family_accession'].unique())\n",
    "#df_train['family_accession'].nunique()\n",
    "#print(df_train)\n",
    "#print(df_val)"
   ]
  },
  {
   "cell_type": "code",
   "execution_count": 3,
   "metadata": {},
   "outputs": [
    {
     "data": {
      "text/html": [
       "<div>\n",
       "<style scoped>\n",
       "    .dataframe tbody tr th:only-of-type {\n",
       "        vertical-align: middle;\n",
       "    }\n",
       "\n",
       "    .dataframe tbody tr th {\n",
       "        vertical-align: top;\n",
       "    }\n",
       "\n",
       "    .dataframe thead th {\n",
       "        text-align: right;\n",
       "    }\n",
       "</style>\n",
       "<table border=\"1\" class=\"dataframe\">\n",
       "  <thead>\n",
       "    <tr style=\"text-align: right;\">\n",
       "      <th></th>\n",
       "      <th>ID</th>\n",
       "      <th>label</th>\n",
       "    </tr>\n",
       "  </thead>\n",
       "  <tbody>\n",
       "    <tr>\n",
       "      <th>0</th>\n",
       "      <td>0</td>\n",
       "      <td>1</td>\n",
       "    </tr>\n",
       "    <tr>\n",
       "      <th>1</th>\n",
       "      <td>1</td>\n",
       "      <td>1</td>\n",
       "    </tr>\n",
       "    <tr>\n",
       "      <th>2</th>\n",
       "      <td>2</td>\n",
       "      <td>1</td>\n",
       "    </tr>\n",
       "    <tr>\n",
       "      <th>3</th>\n",
       "      <td>3</td>\n",
       "      <td>1</td>\n",
       "    </tr>\n",
       "    <tr>\n",
       "      <th>4</th>\n",
       "      <td>4</td>\n",
       "      <td>1</td>\n",
       "    </tr>\n",
       "  </tbody>\n",
       "</table>\n",
       "</div>"
      ],
      "text/plain": [
       "   ID  label\n",
       "0   0      1\n",
       "1   1      1\n",
       "2   2      1\n",
       "3   3      1\n",
       "4   4      1"
      ]
     },
     "execution_count": 3,
     "metadata": {},
     "output_type": "execute_result"
    }
   ],
   "source": [
    "df_sample.head(5)"
   ]
  },
  {
   "cell_type": "code",
   "execution_count": 4,
   "metadata": {},
   "outputs": [
    {
     "data": {
      "text/plain": [
       "41211"
      ]
     },
     "execution_count": 4,
     "metadata": {},
     "output_type": "execute_result"
    }
   ],
   "source": [
    "len(df_test)"
   ]
  },
  {
   "cell_type": "code",
   "execution_count": 5,
   "metadata": {},
   "outputs": [
    {
     "name": "stdout",
     "output_type": "stream",
     "text": [
      "{'A': 1, 'C': 2, 'G': 3, 'T': 4}\n"
     ]
    }
   ],
   "source": [
    "codes = ['A', 'C', 'G', 'T']\n",
    "def create_dict(codes):\n",
    "  char_dict = {}\n",
    "  for index, val in enumerate(codes):\n",
    "    char_dict[val] = index+1\n",
    "\n",
    "  return char_dict\n",
    "\n",
    "char_dict = create_dict(codes)\n",
    "\n",
    "print(char_dict)"
   ]
  },
  {
   "cell_type": "code",
   "execution_count": 6,
   "metadata": {},
   "outputs": [],
   "source": [
    "\n",
    "\n",
    "def integer_encoding(data):\n",
    "\n",
    "  encode_list = []\n",
    "  for row in data['reads']:\n",
    "    row_encode = []\n",
    "    for code in row:\n",
    "      row_encode.append(char_dict.get(code, 0))\n",
    "    encode_list.append(np.array(row_encode))\n",
    "\n",
    "  return encode_list\n",
    "#print(df_train)\n",
    "train_encode = integer_encoding(df_train)\n",
    "#print(train_encode)\n",
    "val_encode = integer_encoding(df_val)\n",
    "test_encode = integer_encoding(df_test)"
   ]
  },
  {
   "cell_type": "code",
   "execution_count": 7,
   "metadata": {},
   "outputs": [
    {
     "data": {
      "text/plain": [
       "array([4, 4, 3, 3, 2, 1, 3, 2, 4, 2, 3, 2, 2, 2, 3, 3, 2, 3, 2, 1, 1, 2,\n",
       "       1, 2, 2, 4, 3, 2, 1, 2, 2, 2, 3, 4, 3, 4, 4, 2, 1, 3, 2, 3, 1, 2,\n",
       "       3, 2, 2, 1, 3, 2, 2, 2, 3, 3, 1, 1, 1, 2, 3, 2, 2, 3, 3, 4, 2, 3,\n",
       "       1, 1, 2, 2, 3, 3, 4, 3, 1, 2, 2, 3, 3, 3, 4, 4, 3, 3, 4, 2, 3, 3,\n",
       "       3, 1, 2, 2, 1, 2, 2, 1, 2, 2, 1, 1, 3, 3, 4, 3, 3, 2, 2, 2, 4, 3,\n",
       "       3, 2, 1, 1, 2, 3, 2, 4, 3, 1, 3, 2, 1, 2, 2, 4, 1, 2, 4, 1, 2, 1,\n",
       "       1, 3, 1, 1, 2, 2, 2, 4, 2, 3, 3, 2, 3, 2, 3, 3, 4, 1, 1, 2, 1, 2,\n",
       "       2, 3, 1, 3, 2, 4, 3, 1, 4, 2, 3, 2, 2, 1, 1, 2, 1, 3, 2, 2, 4, 4,\n",
       "       2, 3, 2, 1, 2, 3, 2, 1, 4, 3, 3, 2, 2, 1, 3, 4, 1, 2, 1, 1, 1, 2,\n",
       "       2, 3, 1, 4, 2, 4, 3, 2, 3, 2, 2, 1, 1, 2, 1, 4, 2, 3, 3, 3, 1, 2,\n",
       "       2, 1, 1, 3, 1, 2, 2, 3, 3, 3, 2, 3, 1, 2, 2, 3, 1, 1, 2, 3, 1, 3,\n",
       "       3, 4, 3, 2, 4, 3, 3, 2])"
      ]
     },
     "execution_count": 7,
     "metadata": {},
     "output_type": "execute_result"
    }
   ],
   "source": [
    "train_encode[1]"
   ]
  },
  {
   "cell_type": "code",
   "execution_count": 8,
   "metadata": {},
   "outputs": [],
   "source": [
    "from sklearn.model_selection import train_test_split\n",
    "\n",
    "# Split dataset into training set and test set\n",
    "X_train, X_test, y_train, y_test = train_test_split(train_encode, df_train['label'], test_size=0.3,random_state=109) # 70% training and 30% test"
   ]
  },
  {
   "cell_type": "code",
   "execution_count": 9,
   "metadata": {},
   "outputs": [
    {
     "data": {
      "text/plain": [
       "((924949, 250), (396408, 250))"
      ]
     },
     "execution_count": 9,
     "metadata": {},
     "output_type": "execute_result"
    }
   ],
   "source": [
    "\n",
    "\n",
    "np.array(X_train).shape, np.array(X_test).shape\n",
    "\n",
    "\n"
   ]
  },
  {
   "cell_type": "code",
   "execution_count": null,
   "metadata": {},
   "outputs": [],
   "source": []
  },
  {
   "cell_type": "code",
   "execution_count": null,
   "metadata": {},
   "outputs": [],
   "source": [
    "#Import svm model\n",
    "from sklearn import svm\n",
    "\n",
    "from sklearn.svm import SVC\n",
    "\n",
    "from sklearn.metrics import accuracy_score\n",
    "\n",
    "#Create a svm Classifier\n",
    "clf = svm.SVC(C=100.0) # Linear Kernel/c=100\n",
    "\n",
    "#Train the model using the training sets\n",
    "clf.fit(X_train, y_train)\n",
    "\n",
    "#Predict the response for test dataset\n",
    "y_pred = clf.predict(X_test)"
   ]
  },
  {
   "cell_type": "code",
   "execution_count": null,
   "metadata": {},
   "outputs": [],
   "source": [
    "#Import scikit-learn metrics module for accuracy calculation\n",
    "from sklearn import metrics\n",
    "\n",
    "# Model Accuracy: how often is the classifier correct?\n",
    "print(\"Accuracy:\",metrics.accuracy_score(y_test, y_pred))\n",
    "# Model Precision: what percentage of positive tuples are labeled as such?\n",
    "print(\"Precision:\",metrics.precision_score(y_test, y_pred))\n",
    "\n",
    "# Model Recall: what percentage of positive tuples are labelled as such?\n",
    "print(\"Recall:\",metrics.recall_score(y_test, y_pred))"
   ]
  },
  {
   "cell_type": "code",
   "execution_count": null,
   "metadata": {},
   "outputs": [],
   "source": []
  }
 ],
 "metadata": {
  "kernelspec": {
   "display_name": "Python 3",
   "language": "python",
   "name": "python3"
  },
  "language_info": {
   "codemirror_mode": {
    "name": "ipython",
    "version": 3
   },
   "file_extension": ".py",
   "mimetype": "text/x-python",
   "name": "python",
   "nbconvert_exporter": "python",
   "pygments_lexer": "ipython3",
   "version": "3.7.11"
  }
 },
 "nbformat": 4,
 "nbformat_minor": 4
}
